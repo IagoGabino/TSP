{
 "cells": [
  {
   "cell_type": "code",
   "execution_count": 1,
   "metadata": {},
   "outputs": [
    {
     "name": "stdout",
     "output_type": "stream",
     "text": [
      "Peso total: 10114\n",
      "Caminho: [1, 22, 31, 18, 3, 17, 21, 42, 7, 2, 49, 32, 45, 19, 41, 8, 10, 9, 36, 35, 34, 44, 16, 50, 20, 23, 30, 29, 39, 40, 38, 24, 48, 46, 5, 15, 43, 33, 6, 4, 25, 12, 28, 27, 26, 47, 13, 14, 52, 51, 11, 37, 1]\n"
     ]
    }
   ],
   "source": [
    "import networkx as nx\n",
    "import tsplib95\n",
    "\n",
    "def twiceAround(graph):\n",
    "    # Encontra a árvore geradora mínima do grafo\n",
    "    MST = nx.minimum_spanning_tree(graph)\n",
    "\n",
    "    # Realiza um percurso em pré-ordem na MST\n",
    "    start_node = list(MST.nodes)[0]\n",
    "    path = list(nx.dfs_preorder_nodes(MST, start_node))\n",
    "\n",
    "    # Forma um ciclo Hamiltoniano evitando visitar nós repetidos\n",
    "    hamiltonian_cycle = []\n",
    "    visited = set()\n",
    "    for node in path:\n",
    "        if node not in visited:\n",
    "            visited.add(node)\n",
    "            hamiltonian_cycle.append(node)\n",
    "    hamiltonian_cycle.append(hamiltonian_cycle[0])  # Volta ao nó inicial\n",
    "\n",
    "    # Calcula o peso total do ciclo\n",
    "    total_weight = sum(graph[hamiltonian_cycle[i]][hamiltonian_cycle[i+1]]['weight'] for i in range(len(hamiltonian_cycle) - 1))\n",
    "\n",
    "    return total_weight, hamiltonian_cycle\n",
    "\n",
    "# Carregar um problema TSP usando TSPLIB95\n",
    "problem = tsplib95.load('lib/berlin52.tsp')\n",
    "graph = problem.get_graph()\n",
    "\n",
    "# Chamada da função\n",
    "weight, path = twiceAround(graph)\n",
    "print(\"Peso total:\", weight)\n",
    "print(\"Caminho:\", path)"
   ]
  },
  {
   "cell_type": "code",
   "execution_count": 2,
   "metadata": {},
   "outputs": [
    {
     "name": "stdout",
     "output_type": "stream",
     "text": [
      "Peso total: 95\n",
      "Caminho: [0, 1, 2, 3, 0]\n"
     ]
    }
   ],
   "source": [
    "adj_matrix = [\n",
    "    # a  b   c   d\n",
    "    [0, 10, 15, 20],  # a\n",
    "    [10, 0, 35, 25],  # b\n",
    "    [15, 35, 0, 30],  # c\n",
    "    [20, 25, 30, 0]   # d\n",
    "]\n",
    "\n",
    "N = len(adj_matrix)\n",
    "\n",
    "# Cria um grafo a partir da matriz de adjacência\n",
    "G = nx.Graph()\n",
    "for i in range(N):\n",
    "    for j in range(i + 1, N):\n",
    "        if adj_matrix[i][j] > 0:\n",
    "            G.add_edge(i, j, weight=adj_matrix[i][j])\n",
    "\n",
    "# Chamada da função\n",
    "weight, path = twiceAround(G)\n",
    "print(\"Peso total:\", weight)\n",
    "print(\"Caminho:\", path)\n"
   ]
  },
  {
   "cell_type": "code",
   "execution_count": null,
   "metadata": {},
   "outputs": [],
   "source": []
  }
 ],
 "metadata": {
  "kernelspec": {
   "display_name": "Python 3",
   "language": "python",
   "name": "python3"
  },
  "language_info": {
   "codemirror_mode": {
    "name": "ipython",
    "version": 3
   },
   "file_extension": ".py",
   "mimetype": "text/x-python",
   "name": "python",
   "nbconvert_exporter": "python",
   "pygments_lexer": "ipython3",
   "version": "3.11.3"
  }
 },
 "nbformat": 4,
 "nbformat_minor": 2
}
