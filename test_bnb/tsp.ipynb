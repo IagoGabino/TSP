{
 "cells": [
  {
   "cell_type": "code",
   "execution_count": 1,
   "metadata": {},
   "outputs": [],
   "source": [
    "import networkx as nx\n",
    "import tsplib95 as tsp\n",
    "import numpy as np\n",
    "from queue import PriorityQueue"
   ]
  },
  {
   "cell_type": "markdown",
   "metadata": {},
   "source": [
    "# Algorithms"
   ]
  },
  {
   "cell_type": "markdown",
   "metadata": {},
   "source": [
    "## Branch and Bound"
   ]
  },
  {
   "cell_type": "code",
   "execution_count": 44,
   "metadata": {},
   "outputs": [],
   "source": [
    "problem = tsp.load('test15.tsp')"
   ]
  },
  {
   "cell_type": "code",
   "execution_count": 45,
   "metadata": {},
   "outputs": [],
   "source": [
    "# Implements the branch and bound algorithm\n",
    "\n",
    "class Node:\n",
    "    def __init__(self, bound, path, edges, cost):\n",
    "        self.bound = bound\n",
    "        self.path = path\n",
    "        self.edges = edges\n",
    "        self.cost = cost\n",
    "    \n",
    "    def __lt__(self, other):\n",
    "        if len(self.path) == len(other.path): #longer paths mean we are closer to the complete solution\n",
    "            return self.cost < other.cost #prioritize lower cost\n",
    "        else:\n",
    "            return len(self.path) > len(other.path)\n",
    "    \n",
    "def findSmallestEdges(problem, node):\n",
    "    min1 = float('inf')\n",
    "    min2 = float('inf')\n",
    "    for other_node in problem.get_nodes():\n",
    "        if other_node != node:\n",
    "            weight = problem.get_weight(node, other_node)\n",
    "            if weight < min1:\n",
    "                min2 = min1\n",
    "                min1 = weight\n",
    "            elif weight < min2:\n",
    "                min2 = weight\n",
    "    return min1, min2\n",
    "\n",
    "def computeFirstBound(problem):\n",
    "    bound = 0\n",
    "    num_nodes = problem.dimension\n",
    "    initialBoundEdges = np.zeros((num_nodes + 1, 2))\n",
    "\n",
    "    for i in range(1, num_nodes + 1):\n",
    "        min1, min2 = findSmallestEdges(problem, i)\n",
    "        print(min1, min2)\n",
    "        initialBoundEdges[i][0] = min1\n",
    "        initialBoundEdges[i][1] = min2\n",
    "        bound += min1 + min2\n",
    "\n",
    "    return bound / 2, initialBoundEdges\n",
    "\n",
    "def computeNodeBound(problem, path, edges, bound):\n",
    "    num_nodes = problem.dimension + 1\n",
    "    changedEdges = np.zeros(num_nodes, dtype=int)\n",
    "    newEdges = np.array(edges)\n",
    "\n",
    "    # Get the weight of the most recently added edge in the path\n",
    "    edgeWeight = problem.get_weight(path[-2], path[-1])\n",
    "    \n",
    "    # Double the current bound to adjust for calculations\n",
    "    sum = bound * 2\n",
    "\n",
    "    # Update for the second-to-last node in the path\n",
    "    if newEdges[path[-2]][0] != edgeWeight:\n",
    "        if changedEdges[path[-2]] == 0:\n",
    "            sum -= newEdges[path[-2]][1]\n",
    "            sum += edgeWeight\n",
    "        else:\n",
    "            sum -= newEdges[path[-2]][0]\n",
    "            sum += edgeWeight\n",
    "        changedEdges[path[-2]] += 1\n",
    "\n",
    "    # Update for the last node in the path\n",
    "    if newEdges[path[-1]][0] != edgeWeight:\n",
    "        if changedEdges[path[-1]] == 0:\n",
    "            sum -= newEdges[path[-1]][1]\n",
    "            sum += edgeWeight\n",
    "        else:\n",
    "            sum -= newEdges[path[-1]][0]\n",
    "            sum += edgeWeight\n",
    "        changedEdges[path[-1]] += 1\n",
    "\n",
    "    # Return the updated bound and the updated edges array\n",
    "    return sum / 2, newEdges"
   ]
  },
  {
   "cell_type": "code",
   "execution_count": 46,
   "metadata": {},
   "outputs": [],
   "source": [
    "def branchAndBoundTSP(problem):\n",
    "    initialBound, initialBoundEdges = computeFirstBound(problem)\n",
    "    root = Node(initialBound, [1], initialBoundEdges, 0)\n",
    "    pq = PriorityQueue()\n",
    "    pq.put(root)\n",
    "    best = float('inf')\n",
    "    best_solution = []\n",
    "    num_nodes = problem.dimension\n",
    "\n",
    "    while not pq.empty():\n",
    "        node = pq.get()\n",
    "        level = len(node.path)\n",
    "\n",
    "        # Check if a complete solution is found\n",
    "        if level == num_nodes:\n",
    "            if node.cost < best:\n",
    "                best = node.cost\n",
    "                best_solution = node.path\n",
    "        else:\n",
    "            # Explore further only if the current bound is less than the best known cost\n",
    "            if node.bound < best:\n",
    "                for k in range(1, num_nodes + 1):\n",
    "                    if k not in node.path:\n",
    "                        new_solution = node.path + [k]\n",
    "                        edgeWeight = problem.get_weight(node.path[-1], k)\n",
    "                        newBound, newEdges = computeNodeBound(problem, new_solution, node.edges, node.bound)\n",
    "\n",
    "                        # Check if the new node is promising\n",
    "                        if newBound < best:\n",
    "                            new_cost = node.cost + edgeWeight\n",
    "                            newNode = Node(newBound, new_solution, newEdges, new_cost)\n",
    "                            pq.put(newNode)\n",
    "\n",
    "    # add the first node to the end of the path to complete the cycle\n",
    "    best_solution.append(best_solution[0])\n",
    "\n",
    "    # sum the weights of the last edge (from the last node to the first node) to the best cost\n",
    "    best += problem.get_weight(best_solution[-2], best_solution[-1])\n",
    "            \n",
    "    return best, best_solution\n"
   ]
  },
  {
   "cell_type": "code",
   "execution_count": 47,
   "metadata": {},
   "outputs": [
    {
     "name": "stdout",
     "output_type": "stream",
     "text": [
      "48 161\n",
      "67 149\n",
      "188 230\n",
      "138 181\n",
      "89 149\n",
      "117 173\n",
      "135 379\n",
      "61 138\n",
      "161 188\n",
      "67 89\n",
      "61 181\n",
      "135 269\n",
      "181 291\n",
      "48 181\n",
      "117 225\n",
      "Best cost: 2884\n",
      "Best solution: [1, 14, 9, 3, 2, 10, 5, 12, 7, 15, 6, 11, 8, 4, 13, 1]\n"
     ]
    }
   ],
   "source": [
    "best_cost, best_solution = branchAndBoundTSP(problem)\n",
    "print(\"Best cost:\", best_cost)\n",
    "print(\"Best solution:\", best_solution)"
   ]
  },
  {
   "cell_type": "code",
   "execution_count": null,
   "metadata": {},
   "outputs": [],
   "source": []
  }
 ],
 "metadata": {
  "kernelspec": {
   "display_name": "Python 3",
   "language": "python",
   "name": "python3"
  },
  "language_info": {
   "codemirror_mode": {
    "name": "ipython",
    "version": 3
   },
   "file_extension": ".py",
   "mimetype": "text/x-python",
   "name": "python",
   "nbconvert_exporter": "python",
   "pygments_lexer": "ipython3",
   "version": "3.11.3"
  }
 },
 "nbformat": 4,
 "nbformat_minor": 2
}
