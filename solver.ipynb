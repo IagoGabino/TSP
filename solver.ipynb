{
 "cells": [
  {
   "cell_type": "code",
   "execution_count": 5,
   "metadata": {},
   "outputs": [
    {
     "name": "stdout",
     "output_type": "stream",
     "text": [
      "Rota:\n",
      " 1 -> 5 -> 6 -> 4 -> 10 -> 9 -> 8 -> 3 -> 7 -> 2 -> 1\n",
      "\n",
      "Distância da rota: 2826 metros\n",
      "\n"
     ]
    }
   ],
   "source": [
    "from ortools.constraint_solver import routing_enums_pb2\n",
    "from ortools.constraint_solver import pywrapcp\n",
    "import tsplib95\n",
    "\n",
    "def create_data_model(file_path):\n",
    "    # Lê o arquivo .tsp\n",
    "    problem = tsplib95.load(file_path)\n",
    "\n",
    "    # Determina o número de nós e cria a matriz de distância\n",
    "    nodes = list(problem.get_nodes())\n",
    "    n = len(nodes)\n",
    "    distance_matrix = [[0 for _ in range(n)] for _ in range(n)]\n",
    "\n",
    "    for i in range(n):\n",
    "        for j in range(n):\n",
    "            if i != j:\n",
    "                # Ajusta os índices para a matriz baseada em 0\n",
    "                distance_matrix[i][j] = problem.get_weight(i+1, j+1)\n",
    "            else:\n",
    "                distance_matrix[i][j] = 0\n",
    "\n",
    "    data = {}\n",
    "    data['distance_matrix'] = distance_matrix\n",
    "    data['num_vehicles'] = 1\n",
    "    data['depot'] = 0\n",
    "    return data\n",
    "\n",
    "\n",
    "def main():\n",
    "    # Carrega os dados do problema\n",
    "    data = create_data_model('test_bnb/test10.tsp')\n",
    "\n",
    "    # Cria o modelo de roteamento\n",
    "    manager = pywrapcp.RoutingIndexManager(len(data['distance_matrix']), data['num_vehicles'], data['depot'])\n",
    "    routing = pywrapcp.RoutingModel(manager)\n",
    "\n",
    "    # Cria e registra uma função de custo de trânsito\n",
    "    def distance_callback(from_index, to_index):\n",
    "        from_node = manager.IndexToNode(from_index)\n",
    "        to_node = manager.IndexToNode(to_index)\n",
    "        return data['distance_matrix'][from_node][to_node]\n",
    "\n",
    "    transit_callback_index = routing.RegisterTransitCallback(distance_callback)\n",
    "    routing.SetArcCostEvaluatorOfAllVehicles(transit_callback_index)\n",
    "\n",
    "    # Resolve o problema\n",
    "    search_parameters = pywrapcp.DefaultRoutingSearchParameters()\n",
    "    solution = routing.SolveWithParameters(search_parameters)\n",
    "\n",
    "    # Imprime a solução\n",
    "    if solution:\n",
    "        print_solution(manager, routing, solution)\n",
    "\n",
    "def print_solution(manager, routing, solution):\n",
    "    # Função para imprimir a solução\n",
    "    index = routing.Start(0)\n",
    "    plan_output = 'Rota:\\n'\n",
    "    route_distance = 0\n",
    "    while not routing.IsEnd(index):\n",
    "        # Ajusta o índice para mapear de volta para o esquema de indexação do arquivo .tsp\n",
    "        plan_output += ' {} ->'.format(manager.IndexToNode(index) + 1)\n",
    "        previous_index = index\n",
    "        index = solution.Value(routing.NextVar(index))\n",
    "        route_distance += routing.GetArcCostForVehicle(previous_index, index, 0)\n",
    "    plan_output += ' {}\\n'.format(manager.IndexToNode(index) + 1)\n",
    "    print(plan_output)\n",
    "    print('Distância da rota: {} metros\\n'.format(route_distance))\n",
    "\n",
    "if __name__ == '__main__':\n",
    "    main()\n"
   ]
  },
  {
   "cell_type": "code",
   "execution_count": 23,
   "metadata": {},
   "outputs": [],
   "source": [
    "problem = tsplib95.load('test_bnb/test10.tsp')"
   ]
  },
  {
   "cell_type": "code",
   "execution_count": 24,
   "metadata": {},
   "outputs": [
    {
     "name": "stdout",
     "output_type": "stream",
     "text": [
      "[(1, 1), (1, 2), (1, 3), (1, 4), (1, 5), (1, 6), (1, 7), (1, 8), (1, 9), (1, 10), (2, 1), (2, 2), (2, 3), (2, 4), (2, 5), (2, 6), (2, 7), (2, 8), (2, 9), (2, 10), (3, 1), (3, 2), (3, 3), (3, 4), (3, 5), (3, 6), (3, 7), (3, 8), (3, 9), (3, 10), (4, 1), (4, 2), (4, 3), (4, 4), (4, 5), (4, 6), (4, 7), (4, 8), (4, 9), (4, 10), (5, 1), (5, 2), (5, 3), (5, 4), (5, 5), (5, 6), (5, 7), (5, 8), (5, 9), (5, 10), (6, 1), (6, 2), (6, 3), (6, 4), (6, 5), (6, 6), (6, 7), (6, 8), (6, 9), (6, 10), (7, 1), (7, 2), (7, 3), (7, 4), (7, 5), (7, 6), (7, 7), (7, 8), (7, 9), (7, 10), (8, 1), (8, 2), (8, 3), (8, 4), (8, 5), (8, 6), (8, 7), (8, 8), (8, 9), (8, 10), (9, 1), (9, 2), (9, 3), (9, 4), (9, 5), (9, 6), (9, 7), (9, 8), (9, 9), (9, 10), (10, 1), (10, 2), (10, 3), (10, 4), (10, 5), (10, 6), (10, 7), (10, 8), (10, 9), (10, 10)]\n"
     ]
    }
   ],
   "source": [
    "# visualizando as arestas\n",
    "print(list(problem.get_edges()))"
   ]
  },
  {
   "cell_type": "code",
   "execution_count": 25,
   "metadata": {},
   "outputs": [
    {
     "name": "stdout",
     "output_type": "stream",
     "text": [
      "666\n"
     ]
    }
   ],
   "source": [
    "# peso entre aresta 1 e 2\n",
    "print(problem.get_weight(1,2))"
   ]
  },
  {
   "cell_type": "code",
   "execution_count": null,
   "metadata": {},
   "outputs": [],
   "source": []
  }
 ],
 "metadata": {
  "kernelspec": {
   "display_name": "Python 3",
   "language": "python",
   "name": "python3"
  },
  "language_info": {
   "codemirror_mode": {
    "name": "ipython",
    "version": 3
   },
   "file_extension": ".py",
   "mimetype": "text/x-python",
   "name": "python",
   "nbconvert_exporter": "python",
   "pygments_lexer": "ipython3",
   "version": "3.11.3"
  }
 },
 "nbformat": 4,
 "nbformat_minor": 2
}
